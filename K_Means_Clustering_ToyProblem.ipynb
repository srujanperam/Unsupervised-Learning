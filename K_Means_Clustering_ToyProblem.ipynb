{
 "cells": [
  {
   "cell_type": "markdown",
   "metadata": {},
   "source": [
    "# K Means Clustering Toy Problem"
   ]
  },
  {
   "cell_type": "code",
   "execution_count": 2,
   "metadata": {
    "collapsed": true
   },
   "outputs": [],
   "source": [
    "#One of the disadvantage of hierarchical clustering is that you cant run it for large datasets\n",
    "#since it calculates all possible distances, it is limited by memory constraints"
   ]
  },
  {
   "cell_type": "code",
   "execution_count": 1,
   "metadata": {},
   "outputs": [],
   "source": [
    "# needed imports\n",
    "from matplotlib import pyplot as plt\n",
    "from scipy.cluster.hierarchy import dendrogram, linkage #this will be useful for heirarchical Clusters\n",
    "import numpy as np\n",
    "%matplotlib inline\n",
    "np.set_printoptions(precision=5, suppress=True)  # suppress scientific float notation"
   ]
  },
  {
   "cell_type": "markdown",
   "metadata": {},
   "source": [
    "# Generate Toy Data"
   ]
  },
  {
   "cell_type": "code",
   "execution_count": 2,
   "metadata": {},
   "outputs": [
    {
     "name": "stdout",
     "output_type": "stream",
     "text": [
      "(20L, 2L)\n"
     ]
    },
    {
     "data": {
      "image/png": "[encoded data removed]",
      "text/plain": [
       "<matplotlib.figure.Figure at 0x3ae51d0>"
      ]
     },
     "metadata": {},
     "output_type": "display_data"
    }
   ],
   "source": [
    "# generate two clusters: a with 10 points, b with 10:\n",
    "np.random.seed(1)  # for repeatability of this tutorial\n",
    "a = np.random.multivariate_normal([10, 0], [[3, 1], [1, 4]], size=[10,])\n",
    "b = np.random.multivariate_normal([0, 20], [[3, 1], [1, 4]], size=[10,])\n",
    "#The multivariate normal is a generalization of the one-dimensional normal distribution to higher\n",
    "#dimensions.  Such a distribution is specified by its mean and covariance matrix. \n",
    "#These parameters are analogous to the mean (average or \"center\") and variance \n",
    "#(standard deviation, or \"width,\" squared) of the one-dimensional normal distribution.\n",
    "\n",
    "X = np.concatenate((a, b))\n",
    "print X.shape  # 20 samples with 2 dimensions\n",
    "plt.scatter(X[:,0], X[:,1])\n",
    "plt.show()"
   ]
  },
  {
   "cell_type": "code",
   "execution_count": 3,
   "metadata": {},
   "outputs": [],
   "source": [
    "#We can clearly identify that there are 2 clusters here. \n",
    "#lets see if K Means clustering also gives us the same conclusion"
   ]
  },
  {
   "cell_type": "markdown",
   "metadata": {},
   "source": [
    "# The Process"
   ]
  },
  {
   "cell_type": "code",
   "execution_count": 4,
   "metadata": {},
   "outputs": [],
   "source": [
    "#The k-means algorithm searches for a pre-determined number \n",
    "#of clusters within an unlabeled multidimensional dataset\n",
    "#the steps involved are-\n",
    "\n",
    "#k-Means Algorithm: Expectation–Maximization\n",
    "#1-- select k \n",
    "#2---randomly assign each data point of a  cluster\n",
    "#3---Compute cluster centroid\n",
    "#4---Check if all points are closer to their own cluster. If not reassign data points to their closest cluster\n",
    "#5---re compute cluster centroids\n",
    "#6---Repeat 4 & 5 untill no improvement\n",
    "\n",
    "# the k measn tries to do the following--\n",
    "#Total SSE= Total Within cluster SSE + Total Between Cluster SSE. #Total SSE is fixed\n",
    "#K means tries to Minimize the Total Within cluster SSE by creating the clusters."
   ]
  },
  {
   "cell_type": "code",
   "execution_count": 5,
   "metadata": {},
   "outputs": [
    {
     "name": "stdout",
     "output_type": "stream",
     "text": [
      "[0 0 0 0 0 0 0 0 0 0 1 1 1 1 1 1 1 1 1 1]\n"
     ]
    }
   ],
   "source": [
    "from sklearn.cluster import KMeans\n",
    "kmeans = KMeans(n_clusters=2,n_init=20) #see explanation of  n_init in adv & disadv of k means below\n",
    "kmeans.fit(X)\n",
    "y_kmeans = kmeans.predict(X)\n",
    "print y_kmeans"
   ]
  },
  {
   "cell_type": "markdown",
   "metadata": {},
   "source": [
    "# Visualizing Your Clusters"
   ]
  },
  {
   "cell_type": "code",
   "execution_count": 6,
   "metadata": {},
   "outputs": [],
   "source": [
    "#f you're lucky enough and your data is very low dimensional, \n",
    "#you can actually visualize the resulting clusters very easily:"
   ]
  },
  {
   "cell_type": "code",
   "execution_count": 7,
   "metadata": {},
   "outputs": [
    {
     "data": {
      "image/png": "[encoded data removed]",
      "text/plain": [
       "<matplotlib.figure.Figure at 0x12e9c208>"
      ]
     },
     "metadata": {},
     "output_type": "display_data"
    }
   ],
   "source": [
    "plt.figure(figsize=(6, 4))\n",
    "plt.scatter(X[:,0], X[:,1],c=y_kmeans, cmap='prism')  # plot points with y_kmeans dependent colors\n",
    "plt.show()\n",
    "# so the K means did what we expected. t rightly selceted the 2 groups of points as different clusters"
   ]
  },
  {
   "cell_type": "markdown",
   "metadata": {},
   "source": [
    "# Disadvantage of K means---"
   ]
  },
  {
   "cell_type": "code",
   "execution_count": 8,
   "metadata": {},
   "outputs": [],
   "source": [
    "#1--The number of clusters must be selected beforehand.  For example, if we ask the \n",
    "#algorithm to identify six clusters,it will happily proceed and find the best six clusters:\n",
    "\n",
    "#2--The globally optimal result may not be achieved.For this reason, it is common for\n",
    "#the algorithm to be run for multiple starting guesses, as indeed Scikit-Learn does\n",
    "#by default (set by the n_init parameter, which defaults to 10).\n",
    "\n",
    "\n",
    "#3--k-means is limited to linear cluster boundaries\n",
    "#The fundamental model assumptions of k-means (points will be closer to their\n",
    "#own cluster center than to others) means that the algorithm will often be \n",
    "#ineffective if the clusters have complicated geometries.\n",
    "#I have attached 2 images with this file. have a  look at it..\n",
    "\n",
    "#4--k-means can be slow for large numbers of samples"
   ]
  },
  {
   "cell_type": "markdown",
   "metadata": {},
   "source": [
    "# Silhoutte analysis"
   ]
  },
  {
   "cell_type": "code",
   "execution_count": 11,
   "metadata": {},
   "outputs": [
    {
     "name": "stdout",
     "output_type": "stream",
     "text": [
      "2163.12612513\n",
      "94.3780276696\n",
      "62.0101669581\n",
      "30.5236898879\n",
      "23.9826955996\n",
      "18.092453526\n",
      "14.2029926074\n"
     ]
    },
    {
     "data": {
      "text/plain": [
       "[<matplotlib.lines.Line2D at 0xe7c3278>]"
      ]
     },
     "execution_count": 11,
     "metadata": {},
     "output_type": "execute_result"
    },
    {
     "data": {
      "image/png": "[encoded data removed]",
      "text/plain": [
       "<matplotlib.figure.Figure at 0x13096198>"
      ]
     },
     "metadata": {},
     "output_type": "display_data"
    }
   ],
   "source": [
    "#The number of Clusters can be found by doing Silhoutte analysis or the Elbow Method\n",
    "\n",
    "#We run the algorithm for different values of K(say K = 10 to 1) and \n",
    "#plot the K values against SSE(Total Sum of Squared Errors within clusters). And select the\n",
    "#value of K for the elbow point as shown in the figure appears\n",
    "\n",
    "# the k measn tries to do the following--\n",
    "#Total SSE= Total Within cluster SSE + Total Between Cluster SSE. #Total SSE is fixed\n",
    "#K means tries to Minimize the Total Within cluster SSE by creating the clusters.\n",
    "\n",
    "cluster_range = range( 1, 8 )\n",
    "cluster_errors = []\n",
    "\n",
    "for i in cluster_range:\n",
    "  clusters = KMeans( i )\n",
    "  clusters.fit(X)\n",
    "  print(clusters.inertia_)\n",
    "  cluster_errors.append(clusters.inertia_)\n",
    "\n",
    "plt.figure(figsize=(8,5))\n",
    "plt.plot( cluster_range, cluster_errors, marker = \"o\" )"
   ]
  },
  {
   "cell_type": "code",
   "execution_count": 15,
   "metadata": {},
   "outputs": [],
   "source": [
    "#this clearly gives you the elbow at cluster # 2. Hence you should select 2 clusters."
   ]
  },
  {
   "cell_type": "code",
   "execution_count": 14,
   "metadata": {},
   "outputs": [],
   "source": []
  },
  {
   "cell_type": "code",
   "execution_count": null,
   "metadata": {},
   "outputs": [],
   "source": []
  }
 ],
 "metadata": {
  "kernelspec": {
   "display_name": "Python 3",
   "language": "python",
   "name": "python3"
  },
  "language_info": {
   "codemirror_mode": {
    "name": "ipython",
    "version": 3
   },
   "file_extension": ".py",
   "mimetype": "text/x-python",
   "name": "python",
   "nbconvert_exporter": "python",
   "pygments_lexer": "ipython3",
   "version": "3.7.1"
  }
 },
 "nbformat": 4,
 "nbformat_minor": 1
}
