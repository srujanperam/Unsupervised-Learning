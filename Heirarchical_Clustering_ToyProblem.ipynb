{
 "cells": [
  {
   "cell_type": "markdown",
   "metadata": {},
   "source": [
    "# Heirarchical Clustering Toy Problem"
   ]
  },
  {
   "cell_type": "code",
   "execution_count": 3,
   "metadata": {
    "collapsed": true
   },
   "outputs": [],
   "source": [
    "# needed imports\n",
    "from matplotlib import pyplot as plt\n",
    "from scipy.cluster.hierarchy import dendrogram, linkage #this will be useful for heirarchical Clusters\n",
    "import numpy as np\n",
    "%matplotlib inline\n",
    "np.set_printoptions(precision=5, suppress=True)  # suppress scientific float notation"
   ]
  },
  {
   "cell_type": "markdown",
   "metadata": {},
   "source": [
    "# Generate Toy Data"
   ]
  },
  {
   "cell_type": "code",
   "execution_count": 4,
   "metadata": {},
   "outputs": [
    {
     "name": "stdout",
     "output_type": "stream",
     "text": [
      "(20L, 2L)\n"
     ]
    },
    {
     "data": {
      "image/png": "[encoded data removed]",
      "text/plain": [
       "<matplotlib.figure.Figure at 0x6239828>"
      ]
     },
     "metadata": {},
     "output_type": "display_data"
    }
   ],
   "source": [
    "# generate two clusters: a with 10 points, b with 10:\n",
    "np.random.seed(1)  # for repeatability of this tutorial\n",
    "a = np.random.multivariate_normal([10, 0], [[3, 1], [1, 4]], size=[10,])\n",
    "b = np.random.multivariate_normal([0, 20], [[3, 1], [1, 4]], size=[10,])\n",
    "#The multivariate normal is a generalization of the one-dimensional normal distribution to higher\n",
    "#dimensions.  Such a distribution is specified by its mean and covariance matrix. \n",
    "#These parameters are analogous to the mean (average or \"center\") and variance \n",
    "#(standard deviation, or \"width,\" squared) of the one-dimensional normal distribution.\n",
    "\n",
    "X = np.concatenate((a, b))\n",
    "print X.shape  # 20 samples with 2 dimensions\n",
    "plt.scatter(X[:,0], X[:,1])\n",
    "plt.show()"
   ]
  },
  {
   "cell_type": "code",
   "execution_count": 5,
   "metadata": {},
   "outputs": [],
   "source": [
    "#We can clearly identify that there are 2 clusters here. \n",
    "#lets see if Heirarchical clustering also gives us this conclusion."
   ]
  },
  {
   "cell_type": "markdown",
   "metadata": {},
   "source": [
    "# The Process"
   ]
  },
  {
   "cell_type": "code",
   "execution_count": 6,
   "metadata": {},
   "outputs": [],
   "source": [
    "# generate the linkage matrix\n",
    "Z = linkage(X, 'ward')\n",
    "#This tell you which datapoint merged with with other data point--\n",
    "#of course the points with smallest distance merged first\n",
    "\n",
    "#What is this WARD??\n",
    "\n",
    "#'ward' is one of the methods that can be used to calculate\n",
    "#the distance between newly formed clusters.\n",
    "\n",
    "#other common linkage methods like 'single', 'complete', 'average',\n",
    "#... and the different distance metrics like 'euclidean' (default), Manhattan,'cosine' etc"
   ]
  },
  {
   "cell_type": "code",
   "execution_count": 7,
   "metadata": {},
   "outputs": [
    {
     "data": {
      "text/plain": [
       "array([[  0.     ,   3.     ,   0.34673,   2.     ],\n",
       "       [ 15.     ,  17.     ,   0.59441,   2.     ],\n",
       "       [  1.     ,   8.     ,   0.82165,   2.     ],\n",
       "       [  6.     ,  22.     ,   1.05614,   3.     ],\n",
       "       [ 16.     ,  21.     ,   1.14153,   3.     ],\n",
       "       [  2.     ,   5.     ,   1.33531,   2.     ],\n",
       "       [ 10.     ,  18.     ,   1.40539,   2.     ],\n",
       "       [  4.     ,   9.     ,   1.41544,   2.     ],\n",
       "       [  7.     ,  20.     ,   1.5527 ,   3.     ],\n",
       "       [ 11.     ,  19.     ,   1.67079,   2.     ],\n",
       "       [ 13.     ,  24.     ,   1.77004,   4.     ],\n",
       "       [ 14.     ,  26.     ,   2.10625,   3.     ],\n",
       "       [ 12.     ,  29.     ,   2.51105,   3.     ],\n",
       "       [ 23.     ,  27.     ,   2.84976,   5.     ],\n",
       "       [ 25.     ,  28.     ,   3.43227,   5.     ]])"
      ]
     },
     "execution_count": 7,
     "metadata": {},
     "output_type": "execute_result"
    }
   ],
   "source": [
    "#for example lets see the first 5 records in Z\n",
    "Z[:15]\n",
    "#this tells us the following. there are 4 columns\n",
    "#Column 1--- Datapoint # ( 0 to 19 as we have 20 points, if this # is > 19 it means it is a Cluster)\n",
    "#Column 2- same as above\n",
    "#Column 3-- Distance between the points / cluster\n",
    "#Column 4-- # of points merged\n",
    "\n",
    "#In the first row- 0 (index/datapoint no.) merged with datapoint no. 3. the distance between them\n",
    "#was 0.34673--- the merging took place between 2 points hence 2 as the last value\n",
    "# the second merging too place between point #'s 15 & 17. dist between them was 0.59441 and 2 as the\n",
    "#merging happened between 2 points\n",
    "\n",
    "#In Row 4th--point # 6 merges with Cluster # 22 ( this is the cluster formed in Row3rd)\n",
    "#Cluster formed in Row First-- is indexed 20, Row Second indexed 21 and so on..."
   ]
  },
  {
   "cell_type": "markdown",
   "metadata": {},
   "source": [
    "# Dendogram"
   ]
  },
  {
   "cell_type": "code",
   "execution_count": 8,
   "metadata": {
    "collapsed": true
   },
   "outputs": [],
   "source": [
    "#A dendrogram is a visualization in form of a tree showing the order \n",
    "#and distances of merges during the hierarchical clustering."
   ]
  },
  {
   "cell_type": "code",
   "execution_count": 9,
   "metadata": {},
   "outputs": [
    {
     "data": {
      "image/png": "[encoded data removed]",
      "text/plain": [
       "<matplotlib.figure.Figure at 0x10c30c88>"
      ]
     },
     "metadata": {},
     "output_type": "display_data"
    }
   ],
   "source": [
    "# calculate full dendrogram\n",
    "plt.figure(figsize=(20, 10))\n",
    "plt.title('Hierarchical Clustering Dendrogram')\n",
    "plt.xlabel('sample index',fontsize=20)\n",
    "plt.ylabel('distance',fontsize=20)\n",
    "dendrogram(Z,leaf_rotation=90.,leaf_font_size=20)\n",
    "# leaf_rotation -----rotates the x axis labels\n",
    "# leaf_font_size----font size for the x axis labels\n",
    "plt.show()"
   ]
  },
  {
   "cell_type": "code",
   "execution_count": 10,
   "metadata": {
    "collapsed": true
   },
   "outputs": [],
   "source": [
    "#Info we get from the dendogram----\n",
    "\n",
    "#the above dendogram shows which points are merged and when..\n",
    "#we can see that the first merging takes places as shown by the Distance aray Z\n",
    "\n",
    "#The height of that horizontal line tells you about the distance at which \n",
    "#this label was merged into another label or cluster"
   ]
  },
  {
   "cell_type": "markdown",
   "metadata": {},
   "source": [
    "# Selecting the Number of Clusters"
   ]
  },
  {
   "cell_type": "code",
   "execution_count": 11,
   "metadata": {
    "collapsed": true
   },
   "outputs": [],
   "source": [
    "#Imagibe a horizontal line and drop it from top of the dendogram\n",
    "# the max up-down free movement the Horizontal line has before touching any other\n",
    "#Horizonal line is the best Choice. You shud freeze the H line there.\n",
    "#Then\n",
    "#simply count the number of intersections with vertical lines of the dendrogram to \n",
    "#get the number of formed clusters.\n",
    "#in the above Dendogram the Line shud be Stpped where it gives 2 Clusters\n",
    "#the Cluster formed are as belwo-\n",
    "\n",
    "#CLSTER 1 ---- with poits-- 1,6,8,4,9,25,7,0,3\n",
    "\n",
    "#CLISTER 2 ---- with poits--12,11,19,13,16,15,17,14,10,18"
   ]
  },
  {
   "cell_type": "code",
   "execution_count": 12,
   "metadata": {},
   "outputs": [
    {
     "name": "stdout",
     "output_type": "stream",
     "text": [
      "[1 1 1 1 1 1 1 1 1 1 2 2 2 2 2 2 2 2 2 2]\n"
     ]
    }
   ],
   "source": [
    "from scipy.cluster.hierarchy import fcluster\n",
    "k=2 #from the dendogram\n",
    "clusters = fcluster(Z, k, criterion='maxclust') \n",
    "print clusters"
   ]
  },
  {
   "cell_type": "markdown",
   "metadata": {},
   "source": [
    "# Visualizing Your Clusters"
   ]
  },
  {
   "cell_type": "code",
   "execution_count": 13,
   "metadata": {
    "collapsed": true
   },
   "outputs": [],
   "source": [
    "#f you're lucky enough and your data is very low dimensional, \n",
    "#you can actually visualize the resulting clusters very easily:"
   ]
  },
  {
   "cell_type": "code",
   "execution_count": 14,
   "metadata": {},
   "outputs": [
    {
     "data": {
      "image/png": "[encoded data removed]",
      "text/plain": [
       "<matplotlib.figure.Figure at 0x10e6f358>"
      ]
     },
     "metadata": {},
     "output_type": "display_data"
    }
   ],
   "source": [
    "plt.figure(figsize=(6, 4))\n",
    "plt.scatter(X[:,0], X[:,1],c=clusters, cmap='prism')  # plot points with cluster dependent colors\n",
    "plt.show()"
   ]
  },
  {
   "cell_type": "code",
   "execution_count": null,
   "metadata": {
    "collapsed": true
   },
   "outputs": [],
   "source": [
    "#Hope you enjoyed this -- - "
   ]
  }
 ],
 "metadata": {
  "anaconda-cloud": {},
  "kernelspec": {
   "display_name": "Python 3",
   "language": "python",
   "name": "python3"
  },
  "language_info": {
   "codemirror_mode": {
    "name": "ipython",
    "version": 3
   },
   "file_extension": ".py",
   "mimetype": "text/x-python",
   "name": "python",
   "nbconvert_exporter": "python",
   "pygments_lexer": "ipython3",
   "version": "3.7.1"
  }
 },
 "nbformat": 4,
 "nbformat_minor": 1
}
